{
 "cells": [
  {
   "cell_type": "code",
   "execution_count": null,
   "metadata": {},
   "outputs": [],
   "source": [
    "import sys\n",
    "import os\n",
    "import jack\n",
    "import threading"
   ]
  },
  {
   "cell_type": "code",
   "execution_count": 15,
   "metadata": {},
   "outputs": [],
   "source": [
    "argv = iter(sys.argv)\n",
    "clientname = next(argv, defaultclientname)\n",
    "servername = next(argv, None)"
   ]
  },
  {
   "cell_type": "code",
   "execution_count": 16,
   "metadata": {},
   "outputs": [],
   "source": [
    "client = jack.Client('python-client-test')"
   ]
  },
  {
   "cell_type": "code",
   "execution_count": 17,
   "metadata": {},
   "outputs": [],
   "source": [
    "if client.status.server_started:\n",
    "    print('JACK server started')\n",
    "if client.status.name_not_unique:\n",
    "    print(f'unique name {client.name!r} assigned')"
   ]
  },
  {
   "cell_type": "code",
   "execution_count": 18,
   "metadata": {},
   "outputs": [],
   "source": [
    "event = threading.Event()"
   ]
  },
  {
   "cell_type": "code",
   "execution_count": 19,
   "metadata": {},
   "outputs": [],
   "source": [
    "@client.set_process_callback\n",
    "def process(frames):\n",
    "    assert len(client.inports) == len(client.outports)\n",
    "    assert frames == client.blocksize\n",
    "    for i, o in zip(client.inports, client.outports):\n",
    "        o.get_buffer()[:] = i.get_buffer()"
   ]
  },
  {
   "cell_type": "code",
   "execution_count": 20,
   "metadata": {},
   "outputs": [],
   "source": [
    "@client.set_shutdown_callback\n",
    "def shutdown(status, reason):\n",
    "    print('JACK shutdown!')\n",
    "    print('status:', status)\n",
    "    print('reason:', reason)\n",
    "    event.set()"
   ]
  },
  {
   "cell_type": "code",
   "execution_count": 21,
   "metadata": {},
   "outputs": [],
   "source": [
    "\n",
    "# create two port pairs\n",
    "for number in 1, 2:\n",
    "    client.inports.register(f'input_{number}')\n",
    "    client.outports.register(f'output_{number}')\n"
   ]
  },
  {
   "cell_type": "code",
   "execution_count": 22,
   "metadata": {},
   "outputs": [
    {
     "name": "stdout",
     "output_type": "stream",
     "text": [
      "Press Ctrl+C to stop\n",
      "\n",
      "Interrupted by user\n"
     ]
    }
   ],
   "source": [
    "with client:\n",
    "\n",
    "    capture = client.get_ports(is_physical=True, is_output=True)\n",
    "    if not capture:\n",
    "        raise RuntimeError('No physical capture ports')\n",
    "\n",
    "    for src, dest in zip(capture, client.inports):\n",
    "        client.connect(src, dest)\n",
    "\n",
    "    playback = client.get_ports(is_physical=True, is_input=True)\n",
    "    if not playback:\n",
    "        raise RuntimeError('No physical playback ports')\n",
    "\n",
    "    for src, dest in zip(client.outports, playback):\n",
    "        client.connect(src, dest)\n",
    "\n",
    "    print('Press Ctrl+C to stop')\n",
    "    try:\n",
    "        event.wait()\n",
    "    except KeyboardInterrupt:\n",
    "        print('\\nInterrupted by user')\n"
   ]
  },
  {
   "cell_type": "code",
   "execution_count": 23,
   "metadata": {},
   "outputs": [
    {
     "name": "stderr",
     "output_type": "stream",
     "text": [
      "jack_deactivate called with a NULL client\n"
     ]
    }
   ],
   "source": [
    "client.deactivate()\n",
    "client.close()"
   ]
  }
 ],
 "metadata": {
  "kernelspec": {
   "display_name": "jack-test",
   "language": "python",
   "name": "python3"
  },
  "language_info": {
   "codemirror_mode": {
    "name": "ipython",
    "version": 3
   },
   "file_extension": ".py",
   "mimetype": "text/x-python",
   "name": "python",
   "nbconvert_exporter": "python",
   "pygments_lexer": "ipython3",
   "version": "3.10.12"
  }
 },
 "nbformat": 4,
 "nbformat_minor": 2
}
